{
 "cells": [
  {
   "cell_type": "markdown",
   "id": "ed0fa06a",
   "metadata": {},
   "source": [
    "# **Maestria en Ingenieria Economica - Universidad Nacional de Ingenieria**\n",
    "\n",
    "---\n",
    "\n",
    "### Curso: _Macroeconomia_\n",
    "\n",
    "### Profesor (_TA_): _Rodney Menezes_ \n",
    "\n",
    "### Tema: _Modelo Solow - Swan (Python)_\n",
    "\n",
    "### Fecha: _07/10/2023_\n",
    "\n",
    "---"
   ]
  },
  {
   "cell_type": "markdown",
   "id": "b662d0b0",
   "metadata": {},
   "source": [
    "## Modelo de Solow-Swan\n",
    "\n",
    "El modelo de Solow-Swan, propuesto de manera independiente por Robert Solow y Trevor Swan en 1956, es un modelo macroeconómico que busca entender cómo crece una economía en el largo plazo y cuál es el papel de la acumulación de capital, la tecnología y la mano de obra en ese proceso.\n"
   ]
  },
  {
   "cell_type": "markdown",
   "id": "3c5f16db",
   "metadata": {},
   "source": [
    "## Supuestos\n",
    "\n",
    "1. Hay una sola mercancía que puede ser consumida o invertida.\n",
    "2. Existen rendimientos constantes a escala pero decrecientes al capital.\n",
    "3. La población (trabajo) crece a una tasa constante.\n",
    "4. La tecnología crece a una tasa constante (exógena).\n",
    "5. Las personas ahorran una fracción constante de su ingreso."
   ]
  },
  {
   "cell_type": "markdown",
   "id": "2220d60d",
   "metadata": {},
   "source": [
    "## Función de Producción\n",
    "\n",
    "Se utiliza una función de producción tipo Cobb-Douglas:\n",
    "\n",
    "$$ Y(t) = A(t) \\cdot K(t)^{\\alpha} \\cdot L(t)^{1-\\alpha} $$\n",
    "\n",
    "Donde:\n",
    "- $ Y(t) $: es el output en el tiempo \\( $t$ \\).\n",
    "- $ A(t) $: es el nivel de tecnología en el tiempo \\( $t$ \\).\n",
    "- $ K(t) $: es el stock de capital en el tiempo \\( $t$ \\).\n",
    "- $ L(t) $: es la fuerza laboral en el tiempo \\( $t$ \\).\n",
    "- $ \\alpha $: es la elasticidad del output respecto al capital.\n"
   ]
  },
  {
   "cell_type": "markdown",
   "id": "dd9ee213",
   "metadata": {},
   "source": [
    "## Dinámica del Capital\n",
    "\n",
    "$[\\dot{K}(t) = s \\cdot Y(t) - \\delta \\cdot K(t)]$\n",
    "\n",
    "Donde:\n",
    "- $(\\dot{K}(t))$: es el cambio en el capital en el tiempo $( t )$.\n",
    "- $(s)$: es la tasa de ahorro.\n",
    "- $( \\delta)$: es la tasa de depreciación del capital.\n"
   ]
  },
  {
   "cell_type": "markdown",
   "id": "208bf35b",
   "metadata": {},
   "source": [
    "## Dinámica del Trabajo y Tecnología\n",
    "\n",
    "$[ \\dot{L}(t) = n \\cdot L(t) ]$\n",
    "\n",
    "$[ \\dot{A}(t) = g \\cdot A(t) ]$\n",
    "\n",
    "Donde:\n",
    "- $( n )$: es la tasa de crecimiento de la población.\n",
    "- $( g )$: es la tasa de crecimiento tecnológico.\n"
   ]
  },
  {
   "cell_type": "markdown",
   "id": "27276e0a",
   "metadata": {},
   "source": [
    "## Estado Estacionario\n",
    "\n",
    "El estado estacionario es un punto en el que el stock de capital per cápita (y, por lo tanto, el output per cápita) ya no cambia. Matemáticamente, esto implica que $( \\dot{K}(t)/L(t) = 0 )$.\n"
   ]
  },
  {
   "cell_type": "code",
   "execution_count": null,
   "id": "aeab6b21",
   "metadata": {
    "scrolled": true
   },
   "outputs": [],
   "source": [
    "import numpy as np\n",
    "import matplotlib.pyplot as plt\n",
    "\n",
    "# Parámetros del modelo \n",
    "A0 = 0.00       # Tecnología inicial\n",
    "L0 = 100     # Población inicial\n",
    "alpha = 0.3  # Elasticidad del capital\n",
    "s = 0.4     # Tasa de ahorro\n",
    "delta = 0.05 # Tasa de depreciación\n",
    "n = 0.02     # Tasa de crecimiento de la población\n",
    "g = 0.02     # Tasa de crecimiento tecnológico\n",
    "T = 100      # Periodos a simular\n",
    "\n",
    "# Inicializaciones\n",
    "K = np.zeros(T+1)\n",
    "L = np.zeros(T+1)\n",
    "Y = np.zeros(T+1)\n",
    "C = np.zeros(T+1)\n",
    "K[0] = 10    # Capital inicial\n",
    "L[0] = L0\n",
    "\n",
    "# Simulación del modelo\n",
    "for t in range(T):\n",
    "    Y[t] = A0 * K[t]**alpha * L[t]**(1-alpha)\n",
    "    C[t] = (1-s) * Y[t]\n",
    "    K[t+1] = s * Y[t] + (1-delta) * K[t]\n",
    "    L[t+1] = L[t] * (1 + n)\n",
    "Y[T] = A0 * K[T]**alpha * L[T]**(1-alpha)\n",
    "C[T] = (1-s) * Y[T]\n",
    "\n",
    "# Estado estacionario para k y c\n",
    "k_star = (s * A0 / (n + g + delta))**(1/(1-alpha))\n",
    "y_star = A0 * k_star**alpha\n",
    "c_star = (1-s) * y_star\n"
   ]
  },
  {
   "cell_type": "markdown",
   "id": "a1906959",
   "metadata": {},
   "source": [
    "# La Regla de Oro\n",
    "\n",
    "Dentro del modelo de Solow-Swan, la \"Regla de Oro\" se refiere al nivel óptimo de capital y consumo que maximiza el consumo per cápita en el estado estacionario. Es decir, de todas las posibles tasas de ahorro y niveles de capital en estado estacionario, ¿cuál nos proporciona el máximo consumo sostenible a largo plazo?\n"
   ]
  },
  {
   "cell_type": "markdown",
   "id": "0efbe257",
   "metadata": {},
   "source": [
    "## Consumo de la Regla de Oro\n",
    "\n",
    "El consumo total en cualquier momento se define como la diferencia entre el output total y la inversión total:\n",
    "\n",
    "$[ C(t) = Y(t) - s \\cdot Y(t) ]$\n",
    "\n",
    "$[ C(t) = (1-s) \\cdot Y(t) ]$\n",
    "\n",
    "El consumo per cápita es:\n",
    "\n",
    "$[ c(t) = (1-s) \\cdot y(t) ]$\n",
    "\n",
    "Para la regla de oro, queremos encontrar el $( s )$ (tasa de ahorro) que maximiza $( c^* )$, el consumo per cápita en estado estacionario.\n"
   ]
  },
  {
   "cell_type": "markdown",
   "id": "d397b7e4",
   "metadata": {},
   "source": [
    "## Capital de la Regla de Oro\n",
    "\n",
    "Para encontrar el capital de la regla de oro, $( k^*_{RO} )$, debemos maximizar el consumo per cápita en estado estacionario, derivando $( c^* )$ respecto a $( k^* )$ y igualando a cero.\n",
    "\n",
    "Usando la función de producción Cobb-Douglas y las ecuaciones anteriores, obtenemos que el capital de la regla de oro $( k^*_{RO} )$ es aquel para el cual:\n",
    "\n",
    "$[ f'(k^*_{RO}) = \\delta + n + g ]$\n",
    "\n",
    "Donde:\n",
    "- $( f'(k^*_{RO}) )$ es la derivada de la función de producción per cápita con respecto al capital per cápita.\n",
    "- $( \\delta )$ es la tasa de depreciación.\n",
    "- $( n )$ es la tasa de crecimiento de la población.\n",
    "- $( g )$ es la tasa de crecimiento tecnológico.\n"
   ]
  },
  {
   "cell_type": "markdown",
   "id": "b9eed68c",
   "metadata": {},
   "source": [
    "## Producto de la Regla de Oro\n",
    "\n",
    "El producto per cápita de la regla de oro, $( y^*_{RO} )$, es simplemente el output per cápita correspondiente al capital de la regla de oro: $[ y^*_{RO} = f(k^*_{RO}) ]$"
   ]
  },
  {
   "cell_type": "code",
   "execution_count": null,
   "id": "ee880336",
   "metadata": {},
   "outputs": [],
   "source": [
    "# Regla de oro\n",
    "s_gold = alpha\n",
    "k_gold = (s_gold * A0 / (delta + n + g))**(1/(1-alpha))\n",
    "y_gold = A0 * k_gold**alpha\n",
    "c_gold = (1 - s_gold) * y_gold\n",
    "\n",
    "# Producto per cápita\n",
    "y = Y / L\n",
    "\n",
    "# Capital per cápita\n",
    "k = K / L\n",
    "\n",
    "# Consumo per cápita\n",
    "c = C / L\n"
   ]
  },
  {
   "cell_type": "code",
   "execution_count": null,
   "id": "7eb29b57",
   "metadata": {},
   "outputs": [],
   "source": [
    "# Grafica del consumo percapita (Trayectoria, regla de oro y estado estacionario).\n",
    "\n",
    "plt.figure(figsize=(6.5, 3))\n",
    "plt.plot(c, label=\"Consumo per cápita $c(t)$\")\n",
    "plt.axhline(y=c_star, color='r', linestyle='--', label=\"Estado estacionario $c^*$\")\n",
    "plt.axhline(y=c_gold, color='g', linestyle=':', label=\"Regla de oro $c_{gold}$\")\n",
    "plt.title(\"Modelo de Solow-Swan: Consumo per cápita a lo largo del tiempo\")\n",
    "plt.xlabel(\"Tiempo\")\n",
    "plt.ylabel(\"Consumo per cápita\")\n",
    "plt.legend()\n",
    "plt.grid(True)\n",
    "plt.show()"
   ]
  },
  {
   "cell_type": "code",
   "execution_count": null,
   "id": "9b8c3fe8",
   "metadata": {
    "scrolled": true
   },
   "outputs": [],
   "source": [
    "# Gráfica del capital per cápita (Trayectoria, regla de oro y estado estacionario).\n",
    "\n",
    "plt.figure(figsize=(6.5, 3))\n",
    "plt.plot(k, label=\"Capital per cápita $k(t)$\")\n",
    "plt.axhline(y=k_star, color='r', linestyle='--', label=\"Estado estacionario $k^*$\")\n",
    "plt.axhline(y=k_gold, color='g', linestyle=':', label=\"Regla de oro $k_{gold}$\")\n",
    "plt.title(\"Modelo de Solow-Swan: Capital per cápita a lo largo del tiempo\")\n",
    "plt.xlabel(\"Tiempo\")\n",
    "plt.ylabel(\"Capital per cápita\")\n",
    "plt.legend()\n",
    "plt.grid(True)\n",
    "plt.show()\n"
   ]
  },
  {
   "cell_type": "code",
   "execution_count": null,
   "id": "ac4e1778",
   "metadata": {
    "scrolled": false
   },
   "outputs": [],
   "source": [
    "# Gráfica del capital per cápita (Trayectoria, regla de oro y estado estacionario).\n",
    "\n",
    "plt.figure(figsize=(6.5, 3))\n",
    "plt.plot(y, label=\"Producto per cápita $y(t)$\")\n",
    "plt.axhline(y=y_star, color='r', linestyle='--', label=\"Estado estacionario $y^*$\")\n",
    "plt.axhline(y=y_gold, color='g', linestyle=':', label=\"Regla de oro $y_{gold}$\")\n",
    "plt.title(\"Modelo de Solow-Swan: Producto per cápita a lo largo del tiempo\")\n",
    "plt.xlabel(\"Tiempo\")\n",
    "plt.ylabel(\"Producto per cápita\")\n",
    "plt.legend()\n",
    "plt.grid(True)\n",
    "plt.show()"
   ]
  },
  {
   "cell_type": "markdown",
   "id": "2032252b",
   "metadata": {},
   "source": [
    "\n",
    "## Analisis adicional de la regla de oro.\n",
    "\n",
    "### Ecuaciones clave:\n",
    "\n",
    "1. **Regla de Oro**:\n",
    "$[ s_{gold} = \\alpha ]$\n",
    "\n",
    "2. **Capital en estado estacionario**:\n",
    "$[ k^* = \\left( \\frac{s A}{n + g + \\delta} \\right)^{\\frac{1}{1-\\alpha}} ]$\n",
    "\n",
    "3. **Capital bajo la Regla de Oro**:\n",
    "$[ k_{gold} = \\left( \\frac{\\alpha A}{n + g + \\delta} \\right)^{\\frac{1}{1-\\alpha}} ]$\n",
    "\n",
    "### Análisis:\n",
    "\n",
    "- Cuando $( \\alpha )$ es **mayor** que $( s )$: $( k_{gold} > k^* )$. La economía tendría un capital per cápita mayor bajo la Regla de Oro que el capital en estado estacionario para esa tasa de ahorro $( s )$.\n",
    "\n",
    "- Cuando $( \\alpha )$ es **menor** que $( s )$: $( k_{gold} < k^* )$. La economía tendría un capital per cápita menor bajo la Regla de Oro que el capital en estado estacionario para esa tasa de ahorro ( s ).\n",
    "\n",
    "Esto ocurre debido a la naturaleza decreciente de los rendimientos del capital en el modelo de Solow. Cuando la elasticidad del capital $( \\alpha )$ es alta, significa que la producción es más sensible a cambios en el capital. Esto lleva a una tasa de ahorro óptima (según la Regla de Oro) que busca maximizar el consumo acumulando aún más capital.\n",
    "\n",
    "Sin embargo, cuando $( \\alpha )$ es bajo, la economía no obtiene tanto beneficio adicional de acumular capital adicional. Por lo tanto, la tasa de ahorro que maximiza el consumo es menor que $( s )$. En consecuencia, el capital bajo la Regla de Oro es menor que el capital en estado estacionario para esa tasa de ahorro $( s )$.\n",
    "\n",
    "\n",
    "\n",
    "### Rangos empiricosr:\n",
    "\n",
    "1. **$( \\alpha)$ (Elasticidad del capital)**:\n",
    "   - Generalmente calibrado alrededor de **0.3 o 0.4**.\n",
    "   - Representa la participación del capital en el ingreso, lo que indica que entre el 30% y 40% del ingreso total es retribuido al capital, mientras que el 60% al 70% restante es retribuido al trabajo.\n",
    "\n",
    "2. **$( s )$ (Tasa de ahorro)**:\n",
    "   - Suele variar ampliamente dependiendo del país o la región en estudio.\n",
    "   - En economías desarrolladas, a menudo se calibra entre **15% y 25%**. \n"
   ]
  },
  {
   "cell_type": "markdown",
   "id": "f5099de7",
   "metadata": {},
   "source": [
    "## Implicaciones y limitaciones\n",
    "\n",
    "1. **Convergencia**: En el modelo de Solow-Swan, las economías menos capitalizadas crecen más rápidamente, tendiendo a converger en términos de producción per cápita.\n",
    "2. **Tasa de Ahorro y Crecimiento**: Una mayor tasa de ahorro resulta en un incremento en el capital y la producción en el estado estacionario. Sin embargo, esto no necesariamente conduce a un mayor crecimiento en el largo plazo, que en el modelo exógeno se impulsa principalmente por el progreso tecnológico.\n",
    "3. **Optimización Intertemporal**: La regla de oro destaca la importancia de equilibrar el ahorro actual para maximizar el bienestar en el largo plazo.\n",
    "4. **Papel de la Política**: Si bien el modelo no garantiza que las economías alcancen la regla de oro de manera autónoma, la intervención gubernamental podría ajustar las tasas de ahorro para acercarse a este ideal.\n",
    "5. **Limitaciones y Extensiones**: Tanto el modelo de Solow-Swan como la regla de oro están basados en supuestos simplificados. El modelo ha evolucionado para incluir aspectos como el crecimiento endógeno, la educación y externalidades tecnológicas, lo que aporta matices adicionales a sus conclusiones originales.\n"
   ]
  }
 ],
 "metadata": {
  "kernelspec": {
   "display_name": "Python 3 (ipykernel)",
   "language": "python",
   "name": "python3"
  },
  "language_info": {
   "codemirror_mode": {
    "name": "ipython",
    "version": 3
   },
   "file_extension": ".py",
   "mimetype": "text/x-python",
   "name": "python",
   "nbconvert_exporter": "python",
   "pygments_lexer": "ipython3",
   "version": "3.10.9"
  }
 },
 "nbformat": 4,
 "nbformat_minor": 5
}
