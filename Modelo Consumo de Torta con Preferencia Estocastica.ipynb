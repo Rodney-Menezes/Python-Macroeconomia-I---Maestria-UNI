{
 "cells": [
  {
   "cell_type": "markdown",
   "id": "7b8c7bc2",
   "metadata": {},
   "source": [
    "# **Maestria en Ingenieria Economica - Universidad Nacional de Ingenieria**\n",
    "\n",
    "---\n",
    "\n",
    "### Curso: _Macroeconomia_\n",
    "\n",
    "### Profesor (_TA_): _Rodney Menezes_ \n",
    "\n",
    "### Tema: _Modelo Consumo de Torta con Preferencia Estocastica - Bellman_\n",
    "\n",
    "### Fecha: _22/12/2023_\n",
    "\n",
    "---"
   ]
  },
  {
   "cell_type": "markdown",
   "id": "2eb04238",
   "metadata": {},
   "source": [
    "\n",
    "Para resolver el modelo de Consumo de Torta Estocástico mediante el método de Value Function Iteration (VFI), primero vamos a establecer la ecuación de Bellman. El modelo es un caso clásico de un problema de optimización dinámica bajo incertidumbre.\n",
    "\n",
    "La ecuación de Bellman para este problema se puede escribir como:\n",
    "\n",
    "$$V(k_t, \\theta_t) = \\max_{C_t} \\left\\{ E_t[\\theta^t \\ln(C_t)] + \\beta E_t[V(k_{t+1})] \\right\\}$$\n",
    "\n",
    "Sujeto a:\n",
    "\n",
    "$$k_{t+1} = k_t - C_t$$\n",
    "\n",
    "$$\\theta^t \\sim N(0, \\sigma^2)$$\n"
   ]
  },
  {
   "cell_type": "markdown",
   "id": "f395e8d5",
   "metadata": {},
   "source": [
    "Donde $V(k_t, \\theta_t)$ es la función de valor, $\\beta$ es el factor de descuento, $C_t$ es el consumo en el tiempo $t$, $k_{t+1}$  es el capital en el tiempo $t+1$, y $\\theta_t$ es el término estocástico que afecta a las preferencias.\n",
    "\n",
    "Para implementar el VFI, seguiremos estos pasos:\n",
    "\n",
    "- Inicializar una función de valor arbitraria, por ejemplo, $V_0(k_t, \\theta_t) = 0$ para todos los $k$ y $\\theta$\n",
    "- Resolver el problema de maximización en la ecuación de Bellman para encontrar la función de política óptima.\n",
    "- Actualizar la función de valor con el resultado del paso 2.\n",
    "- Repetir los pasos 2 y 3 hasta que la función de valor converja."
   ]
  },
  {
   "cell_type": "code",
   "execution_count": null,
   "id": "eb280af5",
   "metadata": {},
   "outputs": [],
   "source": [
    "import numpy as np\n",
    "from scipy.optimize import minimize_scalar\n",
    "from scipy.interpolate import interp1d\n",
    "import matplotlib.pyplot as plt\n",
    "\n",
    "# Parámetros del modelo\n",
    "sigma = 0.1           # Desviación estándar de theta\n",
    "num_k = 4           # Número de puntos en la grilla de capital\n",
    "k_min = 0.5           # Capital mínimo\n",
    "k_max = 1             # Capital máximo\n",
    "k_grid = np.linspace(k_min, k_max, num_k)\n",
    "\n",
    "# Simulación de preferencias estocásticas\n",
    "num_theta = 3\n",
    "theta_shocks = np.abs(np.random.normal(0, sigma, num_theta)) # Uso de valor absoluto\n",
    "\n",
    "# Función de utilidad\n",
    "def utility(c, theta):\n",
    "    return theta * np.log(c)\n",
    "\n",
    "# Función de valor inicial\n",
    "V_initial = np.zeros((num_k, num_theta))\n",
    "\n",
    "# Precisión para la convergencia\n",
    "tolerance = 1e-4\n",
    "difference = 1\n",
    "\n",
    "# Value Function Iteration\n",
    "while difference > tolerance:\n",
    "    V_new = np.zeros_like(V_initial)\n",
    "    for i, k in enumerate(k_grid):\n",
    "        for j, theta in enumerate(theta_shocks):\n",
    "            def objective(C):\n",
    "                K_next = k - C\n",
    "                if C <= 0 or K_next < 0:\n",
    "                    return -np.inf\n",
    "                interp_func = interp1d(k_grid, V_initial[:, j], kind='linear', fill_value=\"extrapolate\")\n",
    "                V_next = np.mean(interp_func(K_next))\n",
    "                return -(utility(C, theta) + V_next)\n",
    "\n",
    "            result = minimize_scalar(objective, bounds=(0, k), method='bounded')\n",
    "            V_new[i, j] = -result.fun\n",
    "\n",
    "    difference = np.max(np.abs(V_new - V_initial))\n",
    "    V_initial = np.copy(V_new)\n",
    "\n",
    "# Resultados\n",
    "print(\"Función de Valor Final:\\n\", V_initial)\n",
    "print(\"Función de Política Óptima:\\n\", policy_function)\n"
   ]
  },
  {
   "cell_type": "code",
   "execution_count": null,
   "id": "8cb49b24",
   "metadata": {},
   "outputs": [],
   "source": [
    "# Graficar la función de política\n",
    "policy_function = np.zeros_like(V_initial)\n",
    "for i, k in enumerate(k_grid):\n",
    "    for j, theta in enumerate(theta_shocks):\n",
    "        policy_function[i, j] = minimize_scalar(lambda C: -objective(C), bounds=(0, k), method='bounded').x\n",
    "\n",
    "plt.figure(figsize=(10, 6))\n",
    "for j in range(num_theta):\n",
    "    plt.plot(k_grid, policy_function[:, j], label=f'Theta = {theta_shocks[j]:.2f}')\n",
    "\n",
    "plt.title('Función de Política Óptima')\n",
    "plt.xlabel('Capital (k)')\n",
    "plt.ylabel('Consumo Óptimo (C)')\n",
    "plt.legend()\n",
    "plt.show()\n"
   ]
  }
 ],
 "metadata": {
  "hide_input": false,
  "kernelspec": {
   "display_name": "Python 3 (ipykernel)",
   "language": "python",
   "name": "python3"
  },
  "language_info": {
   "codemirror_mode": {
    "name": "ipython",
    "version": 3
   },
   "file_extension": ".py",
   "mimetype": "text/x-python",
   "name": "python",
   "nbconvert_exporter": "python",
   "pygments_lexer": "ipython3",
   "version": "3.10.9"
  }
 },
 "nbformat": 4,
 "nbformat_minor": 5
}
